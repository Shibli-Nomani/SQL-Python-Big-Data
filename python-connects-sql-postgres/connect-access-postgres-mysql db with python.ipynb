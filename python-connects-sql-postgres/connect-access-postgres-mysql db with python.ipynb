{
 "cells": [
  {
   "cell_type": "markdown",
   "id": "a5325b36",
   "metadata": {},
   "source": [
    "**Here we go. Simplest way to connect Jupyter Notebook(Python) with Postgres Database and My SQL Database Locally****"
   ]
  },
  {
   "cell_type": "code",
   "execution_count": 27,
   "id": "94eee8ba",
   "metadata": {},
   "outputs": [],
   "source": [
    "import pandas as pd\n",
    "import warnings\n",
    "warnings.filterwarnings(\"ignore\")"
   ]
  },
  {
   "cell_type": "markdown",
   "id": "31b07b30",
   "metadata": {},
   "source": [
    "## import postgres adapter for python"
   ]
  },
  {
   "cell_type": "code",
   "execution_count": 2,
   "id": "08c3c061",
   "metadata": {},
   "outputs": [
    {
     "name": "stdout",
     "output_type": "stream",
     "text": [
      "Defaulting to user installation because normal site-packages is not writeable\n",
      "Requirement already satisfied: psycopg2-binary in c:\\users\\shibli\\appdata\\roaming\\python\\python39\\site-packages (2.9.3)\n",
      "Note: you may need to restart the kernel to use updated packages.\n"
     ]
    }
   ],
   "source": [
    "pip install psycopg2-binary"
   ]
  },
  {
   "cell_type": "code",
   "execution_count": 3,
   "id": "dadc671d",
   "metadata": {},
   "outputs": [],
   "source": [
    "import psycopg2"
   ]
  },
  {
   "cell_type": "code",
   "execution_count": 4,
   "id": "3e4b6953",
   "metadata": {},
   "outputs": [],
   "source": [
    "def con_to_pg(host, port, database, user, password):\n",
    "    connection=None\n",
    "    try: \n",
    "        connection=psycopg2.connect(\n",
    "        host=host, #1st is psycopg host and second host is input value of pgsql\n",
    "        port=port,\n",
    "        database=database,\n",
    "        user=user,\n",
    "        password=password)\n",
    "#if it gets error from above function, it will show error in Exception\n",
    "    except Exception as e:\n",
    "        print(e)\n",
    "    return connection"
   ]
  },
  {
   "cell_type": "code",
   "execution_count": 5,
   "id": "a03cbe44",
   "metadata": {},
   "outputs": [],
   "source": [
    "host='localhost'\n",
    "port='5432' #postgres port\n",
    "database='postgres'\n",
    "user='postgres' #postgres superuser name\n",
    "password='xxxxx' #postgres superuser password\n",
    "#now we need pass the values of the parameter of created function con_to_pg\n",
    "\n",
    "connection=con_to_pg(host=host,\n",
    "        port=port,\n",
    "        database=database,\n",
    "        user=user,\n",
    "        password=password\n",
    ")\n",
    "#to declare cursor to create/establish connection\n",
    "to_use = connection.cursor()"
   ]
  },
  {
   "cell_type": "markdown",
   "id": "ae9c6609",
   "metadata": {},
   "source": [
    "# To import pymysql"
   ]
  },
  {
   "cell_type": "code",
   "execution_count": 6,
   "id": "e8b90524",
   "metadata": {},
   "outputs": [
    {
     "name": "stdout",
     "output_type": "stream",
     "text": [
      "3.9.12\n"
     ]
    }
   ],
   "source": [
    "from platform import python_version\n",
    "\n",
    "print(python_version())"
   ]
  },
  {
   "cell_type": "code",
   "execution_count": 7,
   "id": "ea91b244",
   "metadata": {},
   "outputs": [
    {
     "name": "stdout",
     "output_type": "stream",
     "text": [
      "Defaulting to user installation because normal site-packages is not writeable\n",
      "Requirement already satisfied: PyMySQL in c:\\users\\shibli\\appdata\\roaming\\python\\python39\\site-packages (1.0.2)\n",
      "Note: you may need to restart the kernel to use updated packages.\n"
     ]
    }
   ],
   "source": [
    "pip install PyMySQL"
   ]
  },
  {
   "cell_type": "code",
   "execution_count": 8,
   "id": "d71b5ce8",
   "metadata": {},
   "outputs": [],
   "source": [
    "import pymysql.cursors"
   ]
  },
  {
   "cell_type": "code",
   "execution_count": 9,
   "id": "b6f8da72",
   "metadata": {},
   "outputs": [
    {
     "name": "stdout",
     "output_type": "stream",
     "text": [
      "select * from warehouse.customers\n"
     ]
    }
   ],
   "source": [
    "q = \"select * from warehouse.customers\"\n",
    "to_use.execute(q)\n",
    "\n",
    "print(q)"
   ]
  },
  {
   "cell_type": "code",
   "execution_count": 10,
   "id": "9ea78694",
   "metadata": {},
   "outputs": [
    {
     "name": "stdout",
     "output_type": "stream",
     "text": [
      "(1, 8900089, 'John', 24, 'USA', 'California')\n",
      "(2, 9870067, 'Henry', 27, 'UK', 'Wales')\n",
      "(3, 7890056, 'Jesica', 32, 'USA', 'Florida')\n",
      "(4, 6790679, 'Rocky', 37, 'FRANCE', 'Occitania')\n",
      "(5, 7899006, 'Falcon', 27, 'ITALY', 'Abruzzo')\n",
      "(6, 5687023, 'Lucy', 23, 'FRANCE', 'Occitania')\n",
      "(7, 7834576, 'Leonardo', 22, 'CHINA', 'Beijing')\n",
      "(8, 6043091, 'Melisa', 37, 'USA', 'Florida')\n",
      "(9, 7239456, 'Dominica', 35, 'GERMANY', 'Berlin')\n",
      "(10, 8567234, 'Marcos', 47, 'CANADA', 'Ontario')\n",
      "(11, 5678234, 'Jeson', 39, 'USA', 'Texas')\n",
      "(12, 8567230, 'Nelsi', 40, 'UK', 'Northern Ireland')\n"
     ]
    }
   ],
   "source": [
    "for i in to_use:\n",
    "    print(i)"
   ]
  },
  {
   "cell_type": "markdown",
   "id": "e6c02c83",
   "metadata": {},
   "source": [
    "# To import table from postgres SQL as a Data Frame"
   ]
  },
  {
   "cell_type": "code",
   "execution_count": 11,
   "id": "38124b0f",
   "metadata": {},
   "outputs": [
    {
     "name": "stdout",
     "output_type": "stream",
     "text": [
      "Defaulting to user installation because normal site-packages is not writeable\n",
      "Requirement already satisfied: psycopg2-binary in c:\\users\\shibli\\appdata\\roaming\\python\\python39\\site-packages (2.9.3)\n",
      "Note: you may need to restart the kernel to use updated packages.\n"
     ]
    }
   ],
   "source": [
    "pip install psycopg2-binary"
   ]
  },
  {
   "cell_type": "code",
   "execution_count": 12,
   "id": "e8780dcd",
   "metadata": {},
   "outputs": [],
   "source": [
    "import psycopg2"
   ]
  },
  {
   "cell_type": "code",
   "execution_count": 13,
   "id": "4add1056",
   "metadata": {},
   "outputs": [],
   "source": [
    "def con_to_pg(host, port, database, user, password):\n",
    "    connection=None\n",
    "    try: \n",
    "        connection=psycopg2.connect(\n",
    "        host=host, #1st is psycopg host and second host is input value of pgsql\n",
    "        port=port,\n",
    "        database=database,\n",
    "        user=user, #supruser name\n",
    "        password=password) #supruser password\n",
    "#if it gets error from above function, it will show error in Exception\n",
    "    except Exception as e:\n",
    "        print(e)\n",
    "    return connection"
   ]
  },
  {
   "cell_type": "code",
   "execution_count": 14,
   "id": "166b9e3c",
   "metadata": {},
   "outputs": [],
   "source": [
    "host='localhost'\n",
    "port='5432' #postgres port\n",
    "database='postgres'\n",
    "user='postgres'\n",
    "password='xxxxx' #\n",
    "#now we need pass the values of the parameter of created function con_to_pg\n",
    "\n",
    "connection=con_to_pg(host=host,\n",
    "        port=port,\n",
    "        database=database,\n",
    "        user=user,\n",
    "        password=password\n",
    ")\n"
   ]
  },
  {
   "cell_type": "code",
   "execution_count": 17,
   "id": "0a0fc9e6",
   "metadata": {},
   "outputs": [
    {
     "data": {
      "text/html": [
       "<div>\n",
       "<style scoped>\n",
       "    .dataframe tbody tr th:only-of-type {\n",
       "        vertical-align: middle;\n",
       "    }\n",
       "\n",
       "    .dataframe tbody tr th {\n",
       "        vertical-align: top;\n",
       "    }\n",
       "\n",
       "    .dataframe thead th {\n",
       "        text-align: right;\n",
       "    }\n",
       "</style>\n",
       "<table border=\"1\" class=\"dataframe\">\n",
       "  <thead>\n",
       "    <tr style=\"text-align: right;\">\n",
       "      <th></th>\n",
       "      <th>customer_id</th>\n",
       "      <th>phone</th>\n",
       "      <th>name</th>\n",
       "      <th>age</th>\n",
       "      <th>country</th>\n",
       "      <th>state</th>\n",
       "    </tr>\n",
       "  </thead>\n",
       "  <tbody>\n",
       "    <tr>\n",
       "      <th>0</th>\n",
       "      <td>1</td>\n",
       "      <td>8900089</td>\n",
       "      <td>John</td>\n",
       "      <td>24</td>\n",
       "      <td>USA</td>\n",
       "      <td>California</td>\n",
       "    </tr>\n",
       "    <tr>\n",
       "      <th>1</th>\n",
       "      <td>2</td>\n",
       "      <td>9870067</td>\n",
       "      <td>Henry</td>\n",
       "      <td>27</td>\n",
       "      <td>UK</td>\n",
       "      <td>Wales</td>\n",
       "    </tr>\n",
       "    <tr>\n",
       "      <th>2</th>\n",
       "      <td>3</td>\n",
       "      <td>7890056</td>\n",
       "      <td>Jesica</td>\n",
       "      <td>32</td>\n",
       "      <td>USA</td>\n",
       "      <td>Florida</td>\n",
       "    </tr>\n",
       "    <tr>\n",
       "      <th>3</th>\n",
       "      <td>4</td>\n",
       "      <td>6790679</td>\n",
       "      <td>Rocky</td>\n",
       "      <td>37</td>\n",
       "      <td>FRANCE</td>\n",
       "      <td>Occitania</td>\n",
       "    </tr>\n",
       "    <tr>\n",
       "      <th>4</th>\n",
       "      <td>5</td>\n",
       "      <td>7899006</td>\n",
       "      <td>Falcon</td>\n",
       "      <td>27</td>\n",
       "      <td>ITALY</td>\n",
       "      <td>Abruzzo</td>\n",
       "    </tr>\n",
       "    <tr>\n",
       "      <th>5</th>\n",
       "      <td>6</td>\n",
       "      <td>5687023</td>\n",
       "      <td>Lucy</td>\n",
       "      <td>23</td>\n",
       "      <td>FRANCE</td>\n",
       "      <td>Occitania</td>\n",
       "    </tr>\n",
       "    <tr>\n",
       "      <th>6</th>\n",
       "      <td>7</td>\n",
       "      <td>7834576</td>\n",
       "      <td>Leonardo</td>\n",
       "      <td>22</td>\n",
       "      <td>CHINA</td>\n",
       "      <td>Beijing</td>\n",
       "    </tr>\n",
       "    <tr>\n",
       "      <th>7</th>\n",
       "      <td>8</td>\n",
       "      <td>6043091</td>\n",
       "      <td>Melisa</td>\n",
       "      <td>37</td>\n",
       "      <td>USA</td>\n",
       "      <td>Florida</td>\n",
       "    </tr>\n",
       "    <tr>\n",
       "      <th>8</th>\n",
       "      <td>9</td>\n",
       "      <td>7239456</td>\n",
       "      <td>Dominica</td>\n",
       "      <td>35</td>\n",
       "      <td>GERMANY</td>\n",
       "      <td>Berlin</td>\n",
       "    </tr>\n",
       "    <tr>\n",
       "      <th>9</th>\n",
       "      <td>10</td>\n",
       "      <td>8567234</td>\n",
       "      <td>Marcos</td>\n",
       "      <td>47</td>\n",
       "      <td>CANADA</td>\n",
       "      <td>Ontario</td>\n",
       "    </tr>\n",
       "    <tr>\n",
       "      <th>10</th>\n",
       "      <td>11</td>\n",
       "      <td>5678234</td>\n",
       "      <td>Jeson</td>\n",
       "      <td>39</td>\n",
       "      <td>USA</td>\n",
       "      <td>Texas</td>\n",
       "    </tr>\n",
       "    <tr>\n",
       "      <th>11</th>\n",
       "      <td>12</td>\n",
       "      <td>8567230</td>\n",
       "      <td>Nelsi</td>\n",
       "      <td>40</td>\n",
       "      <td>UK</td>\n",
       "      <td>Northern Ireland</td>\n",
       "    </tr>\n",
       "  </tbody>\n",
       "</table>\n",
       "</div>"
      ],
      "text/plain": [
       "    customer_id    phone      name  age  country             state\n",
       "0             1  8900089      John   24      USA        California\n",
       "1             2  9870067     Henry   27       UK             Wales\n",
       "2             3  7890056    Jesica   32      USA           Florida\n",
       "3             4  6790679     Rocky   37   FRANCE         Occitania\n",
       "4             5  7899006    Falcon   27    ITALY           Abruzzo\n",
       "5             6  5687023      Lucy   23   FRANCE         Occitania\n",
       "6             7  7834576  Leonardo   22    CHINA           Beijing\n",
       "7             8  6043091    Melisa   37      USA           Florida\n",
       "8             9  7239456  Dominica   35  GERMANY            Berlin\n",
       "9            10  8567234    Marcos   47   CANADA           Ontario\n",
       "10           11  5678234     Jeson   39      USA             Texas\n",
       "11           12  8567230     Nelsi   40       UK  Northern Ireland"
      ]
     },
     "execution_count": 17,
     "metadata": {},
     "output_type": "execute_result"
    }
   ],
   "source": [
    "import pandas.io.sql as psql\n",
    "df1=psql.read_sql_query('select * from warehouse.customers', connection)\n",
    "df1"
   ]
  },
  {
   "cell_type": "code",
   "execution_count": 18,
   "id": "beb49fe3",
   "metadata": {},
   "outputs": [
    {
     "data": {
      "text/plain": [
       "0     8900089\n",
       "1     9870067\n",
       "2     7890056\n",
       "3     6790679\n",
       "4     7899006\n",
       "5     5687023\n",
       "6     7834576\n",
       "7     6043091\n",
       "8     7239456\n",
       "9     8567234\n",
       "10    5678234\n",
       "11    8567230\n",
       "Name: phone, dtype: int64"
      ]
     },
     "execution_count": 18,
     "metadata": {},
     "output_type": "execute_result"
    }
   ],
   "source": [
    "df1['phone']"
   ]
  },
  {
   "cell_type": "markdown",
   "id": "7473839b",
   "metadata": {},
   "source": [
    "# To import table as DataFrame from MySQL"
   ]
  },
  {
   "cell_type": "code",
   "execution_count": 19,
   "id": "a9b087d4",
   "metadata": {},
   "outputs": [
    {
     "name": "stdout",
     "output_type": "stream",
     "text": [
      "Defaulting to user installation because normal site-packages is not writeableNote: you may need to restart the kernel to use updated packages.\n",
      "\n",
      "Requirement already satisfied: python-sql in c:\\users\\shibli\\appdata\\roaming\\python\\python39\\site-packages (1.4.0)\n"
     ]
    }
   ],
   "source": [
    "pip install python-sql"
   ]
  },
  {
   "cell_type": "markdown",
   "id": "edecc52d",
   "metadata": {},
   "source": [
    "# import MySQL adapter for python"
   ]
  },
  {
   "cell_type": "code",
   "execution_count": 20,
   "id": "ef13034d",
   "metadata": {},
   "outputs": [
    {
     "name": "stdout",
     "output_type": "stream",
     "text": [
      "Defaulting to user installation because normal site-packages is not writeable\n",
      "Requirement already satisfied: pymysql in c:\\users\\shibli\\appdata\\roaming\\python\\python39\\site-packages (1.0.2)\n",
      "Note: you may need to restart the kernel to use updated packages.\n"
     ]
    }
   ],
   "source": [
    "pip install pymysql"
   ]
  },
  {
   "cell_type": "code",
   "execution_count": 21,
   "id": "c67abf26",
   "metadata": {},
   "outputs": [],
   "source": [
    "import pymysql"
   ]
  },
  {
   "cell_type": "code",
   "execution_count": 22,
   "id": "55d5fc65",
   "metadata": {},
   "outputs": [],
   "source": [
    "def con_to_mysql(host, port, user, password):\n",
    "    connection=None\n",
    "    try: \n",
    "        connection=pymysql.connect(\n",
    "        host=host, \n",
    "        port=port,\n",
    "        user=user,\n",
    "        password=password)\n",
    "#if it gets error from above function, it will show error in Exception\n",
    "    except Exception as e:\n",
    "        print(e)\n",
    "    return connection"
   ]
  },
  {
   "cell_type": "code",
   "execution_count": 23,
   "id": "79cbc733",
   "metadata": {},
   "outputs": [],
   "source": [
    "host='localhost'\n",
    "port=3306 #sql port\n",
    "user='root' #supruser name\n",
    "password='xxxxx' #supruser password\n",
    "#now we need pass the values of the parameter of created function con_to_pg\n",
    "\n",
    "connection=con_to_mysql(host=host,\n",
    "        port=port,\n",
    "        user=user,\n",
    "        password=password\n",
    ")\n"
   ]
  },
  {
   "cell_type": "code",
   "execution_count": 24,
   "id": "9e83dd75",
   "metadata": {},
   "outputs": [
    {
     "data": {
      "text/html": [
       "<div>\n",
       "<style scoped>\n",
       "    .dataframe tbody tr th:only-of-type {\n",
       "        vertical-align: middle;\n",
       "    }\n",
       "\n",
       "    .dataframe tbody tr th {\n",
       "        vertical-align: top;\n",
       "    }\n",
       "\n",
       "    .dataframe thead th {\n",
       "        text-align: right;\n",
       "    }\n",
       "</style>\n",
       "<table border=\"1\" class=\"dataframe\">\n",
       "  <thead>\n",
       "    <tr style=\"text-align: right;\">\n",
       "      <th></th>\n",
       "      <th>emp_no</th>\n",
       "      <th>birth_date</th>\n",
       "      <th>first_name</th>\n",
       "      <th>last_name</th>\n",
       "      <th>gender</th>\n",
       "      <th>hire_date</th>\n",
       "    </tr>\n",
       "  </thead>\n",
       "  <tbody>\n",
       "    <tr>\n",
       "      <th>0</th>\n",
       "      <td>10008</td>\n",
       "      <td>1958-02-19</td>\n",
       "      <td>Saniya</td>\n",
       "      <td>Kalloufi</td>\n",
       "      <td>M</td>\n",
       "      <td>1994-09-15</td>\n",
       "    </tr>\n",
       "    <tr>\n",
       "      <th>1</th>\n",
       "      <td>10011</td>\n",
       "      <td>1953-11-07</td>\n",
       "      <td>Mary</td>\n",
       "      <td>Sluis</td>\n",
       "      <td>F</td>\n",
       "      <td>1990-01-22</td>\n",
       "    </tr>\n",
       "    <tr>\n",
       "      <th>2</th>\n",
       "      <td>10012</td>\n",
       "      <td>1960-10-04</td>\n",
       "      <td>Patricio</td>\n",
       "      <td>Bridgland</td>\n",
       "      <td>M</td>\n",
       "      <td>1992-12-18</td>\n",
       "    </tr>\n",
       "    <tr>\n",
       "      <th>3</th>\n",
       "      <td>10016</td>\n",
       "      <td>1961-05-02</td>\n",
       "      <td>Kazuhito</td>\n",
       "      <td>Cappelletti</td>\n",
       "      <td>M</td>\n",
       "      <td>1995-01-27</td>\n",
       "    </tr>\n",
       "    <tr>\n",
       "      <th>4</th>\n",
       "      <td>10017</td>\n",
       "      <td>1958-07-06</td>\n",
       "      <td>Cristinel</td>\n",
       "      <td>Bouloucos</td>\n",
       "      <td>F</td>\n",
       "      <td>1993-08-03</td>\n",
       "    </tr>\n",
       "    <tr>\n",
       "      <th>...</th>\n",
       "      <td>...</td>\n",
       "      <td>...</td>\n",
       "      <td>...</td>\n",
       "      <td>...</td>\n",
       "      <td>...</td>\n",
       "      <td>...</td>\n",
       "    </tr>\n",
       "    <tr>\n",
       "      <th>135364</th>\n",
       "      <td>499994</td>\n",
       "      <td>1952-02-26</td>\n",
       "      <td>Navin</td>\n",
       "      <td>Argence</td>\n",
       "      <td>F</td>\n",
       "      <td>1990-04-24</td>\n",
       "    </tr>\n",
       "    <tr>\n",
       "      <th>135365</th>\n",
       "      <td>499995</td>\n",
       "      <td>1958-09-24</td>\n",
       "      <td>Dekang</td>\n",
       "      <td>Lichtner</td>\n",
       "      <td>F</td>\n",
       "      <td>1993-01-12</td>\n",
       "    </tr>\n",
       "    <tr>\n",
       "      <th>135366</th>\n",
       "      <td>499996</td>\n",
       "      <td>1953-03-07</td>\n",
       "      <td>Zito</td>\n",
       "      <td>Baaz</td>\n",
       "      <td>M</td>\n",
       "      <td>1990-09-27</td>\n",
       "    </tr>\n",
       "    <tr>\n",
       "      <th>135367</th>\n",
       "      <td>499998</td>\n",
       "      <td>1956-09-05</td>\n",
       "      <td>Patricia</td>\n",
       "      <td>Breugel</td>\n",
       "      <td>M</td>\n",
       "      <td>1993-10-13</td>\n",
       "    </tr>\n",
       "    <tr>\n",
       "      <th>135368</th>\n",
       "      <td>499999</td>\n",
       "      <td>1958-05-01</td>\n",
       "      <td>Sachin</td>\n",
       "      <td>Tsukuda</td>\n",
       "      <td>M</td>\n",
       "      <td>1997-11-30</td>\n",
       "    </tr>\n",
       "  </tbody>\n",
       "</table>\n",
       "<p>135369 rows × 6 columns</p>\n",
       "</div>"
      ],
      "text/plain": [
       "        emp_no  birth_date first_name    last_name gender   hire_date\n",
       "0        10008  1958-02-19     Saniya     Kalloufi      M  1994-09-15\n",
       "1        10011  1953-11-07       Mary        Sluis      F  1990-01-22\n",
       "2        10012  1960-10-04   Patricio    Bridgland      M  1992-12-18\n",
       "3        10016  1961-05-02   Kazuhito  Cappelletti      M  1995-01-27\n",
       "4        10017  1958-07-06  Cristinel    Bouloucos      F  1993-08-03\n",
       "...        ...         ...        ...          ...    ...         ...\n",
       "135364  499994  1952-02-26      Navin      Argence      F  1990-04-24\n",
       "135365  499995  1958-09-24     Dekang     Lichtner      F  1993-01-12\n",
       "135366  499996  1953-03-07       Zito         Baaz      M  1990-09-27\n",
       "135367  499998  1956-09-05   Patricia      Breugel      M  1993-10-13\n",
       "135368  499999  1958-05-01     Sachin      Tsukuda      M  1997-11-30\n",
       "\n",
       "[135369 rows x 6 columns]"
      ]
     },
     "execution_count": 24,
     "metadata": {},
     "output_type": "execute_result"
    }
   ],
   "source": [
    "import pandas.io.sql as psql\n",
    "df2=psql.read_sql_query('select * from employees_mod.t_employees', connection)\n",
    "df2"
   ]
  },
  {
   "cell_type": "code",
   "execution_count": 25,
   "id": "a9e2ba63",
   "metadata": {},
   "outputs": [
    {
     "data": {
      "text/plain": [
       "0         1958-02-19\n",
       "1         1953-11-07\n",
       "2         1960-10-04\n",
       "3         1961-05-02\n",
       "4         1958-07-06\n",
       "             ...    \n",
       "135364    1952-02-26\n",
       "135365    1958-09-24\n",
       "135366    1953-03-07\n",
       "135367    1956-09-05\n",
       "135368    1958-05-01\n",
       "Name: birth_date, Length: 135369, dtype: object"
      ]
     },
     "execution_count": 25,
     "metadata": {},
     "output_type": "execute_result"
    }
   ],
   "source": [
    "df2['birth_date']"
   ]
  }
 ],
 "metadata": {
  "kernelspec": {
   "display_name": "Python 3 (ipykernel)",
   "language": "python",
   "name": "python3"
  },
  "language_info": {
   "codemirror_mode": {
    "name": "ipython",
    "version": 3
   },
   "file_extension": ".py",
   "mimetype": "text/x-python",
   "name": "python",
   "nbconvert_exporter": "python",
   "pygments_lexer": "ipython3",
   "version": "3.9.12"
  }
 },
 "nbformat": 4,
 "nbformat_minor": 5
}
